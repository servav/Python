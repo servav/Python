{
 "cells": [
  {
   "cell_type": "markdown",
   "id": "controversial-title",
   "metadata": {},
   "source": [
    "# Урок 6\n"
   ]
  },
  {
   "cell_type": "markdown",
   "id": "d14e1c8f",
   "metadata": {},
   "source": [
    "# ДЗ"
   ]
  },
  {
   "cell_type": "markdown",
   "id": "dimensional-ministry",
   "metadata": {},
   "source": [
    "Задача 1. Напишите программу с классом Student, в котором есть три атрибута: name, groupNumber и age. По умолчанию name = Ivan, age = 18, groupNumber = 10A. Необходимо создать пять методов: getName, getAge, getGroupNumber, setNameAge, setGroupNumber. Метод getName нужен для получения данных об имени конкретного студента, метод getAge нужен для получения данных о возрасте конкретного студента, vетод setGroupNumberнужен для получения данных о номере группы конкретного студента. Метод SetNameAge позволяет изменить данные атрибутов установленных по умолчанию, метод setGroupNumber позволяет изменить номер группы установленный по умолчанию. В программе необходимо создать пять экземпляров класса Student, установить им разные имена, возраст и номер группы.\n",
    "\n"
   ]
  },
  {
   "cell_type": "code",
   "execution_count": 9,
   "metadata": {},
   "outputs": [
    {
     "name": "stdout",
     "output_type": "stream",
     "text": [
      "Студент 1: Александра, Возраст: 19, Группа: 10Б\n",
      "Студент 2: Михаил, Возраст: 20, Группа: 10В\n"
     ]
    }
   ],
   "source": [
    "class Student:\n",
    "    def __init__(self, name=\"Ivan\", age=18, groupNumber=\"10A\"):\n",
    "        self.name = name\n",
    "        self.age = age\n",
    "        self.groupNumber = groupNumber\n",
    "\n",
    "    def getName(self):\n",
    "        return self.name\n",
    "\n",
    "    def getAge(self):\n",
    "        return self.age\n",
    "\n",
    "    def getGroupNumber(self):\n",
    "        return self.groupNumber\n",
    "\n",
    "    def setNameAge(self, name, age):\n",
    "        self.name = name\n",
    "        self.age = age\n",
    "\n",
    "    def setGroupNumber(self, groupNumber):\n",
    "        self.groupNumber = groupNumber\n",
    "\n",
    "\n",
    "student1 = Student(\"Александра\", 19, \"10Б\")\n",
    "student2 = Student(\"Михаил\", 20, \"10В\")\n",
    "student3 = Student(\"Серега\", 21, \"11А\")\n",
    "student4 = Student(\"Евгений\", 23, \"11Б\")\n",
    "student5 = Student(\"Евгения\", 18, \"11В\")\n",
    "\n",
    "\n",
    "print(f\"Студент 1: {student1.getName()}, Возраст: {student1.getAge()}, Группа: {student1.getGroupNumber()}\")\n",
    "print(f\"Студент 2: {student2.getName()}, Возраст: {student2.getAge()}, Группа: {student2.getGroupNumber()}\")\n"
   ]
  },
  {
   "cell_type": "markdown",
   "id": "quality-positive",
   "metadata": {},
   "source": [
    "Задача 2. Напишите программу с классом Car. Создайте конструктор класса Car. Создайте атрибуты класса Car — color (цвет), type (тип), year (год). Напишите пять методов. Первый — запуск автомобиля, при его вызове выводится сообщение «Автомобиль заведен». Второй — отключение автомобиля — выводит сообщение «Автомобиль заглушен». Третий — присвоение автомобилю года выпуска. Четвертый метод — присвоение автомобилю типа. Пятый — присвоение автомобилю цвета.\n",
    "\n"
   ]
  },
  {
   "cell_type": "code",
   "execution_count": 10,
   "metadata": {},
   "outputs": [
    {
     "name": "stdout",
     "output_type": "stream",
     "text": [
      "Автомобиль заведен\n",
      "Год выпуска автомобиля установлен на 2021\n",
      "Тип автомобиля установлен на седан\n",
      "Цвет автомобиля установлен на синий\n",
      "Автомобиль заглушен\n"
     ]
    }
   ],
   "source": [
    "class Car:\n",
    "    def __init__(self, color, type, year):\n",
    "        self.color = color\n",
    "        self.type = type\n",
    "        self.year = year\n",
    "\n",
    "    def start_car(self):\n",
    "        print(\"Автомобиль заведен\")\n",
    "\n",
    "    def stop_car(self):\n",
    "        print(\"Автомобиль заглушен\")\n",
    "\n",
    "    def set_year(self, year):\n",
    "        self.year = year\n",
    "        print(f\"Год выпуска автомобиля установлен на {year}\")\n",
    "\n",
    "    def set_type(self, type):\n",
    "        self.type = type\n",
    "        print(f\"Тип автомобиля установлен на {type}\")\n",
    "\n",
    "    def set_color(self, color):\n",
    "        self.color = color\n",
    "        print(f\"Цвет автомобиля установлен на {color}\")\n",
    "\n",
    "\n",
    "# Сооздание объекта класса Car \n",
    "my_car = Car(\"красный\", \"хэтчбек\", 2020)\n",
    "\n",
    "# вызов методов\n",
    "my_car.start_car()\n",
    "my_car.set_year(2021)\n",
    "my_car.set_type(\"седан\")\n",
    "my_car.set_color(\"синий\")\n",
    "my_car.stop_car()\n"
   ]
  }
 ],
 "metadata": {
  "kernelspec": {
   "display_name": "Python 3 (ipykernel)",
   "language": "python",
   "name": "python3"
  },
  "language_info": {
   "codemirror_mode": {
    "name": "ipython",
    "version": 3
   },
   "file_extension": ".py",
   "mimetype": "text/x-python",
   "name": "python",
   "nbconvert_exporter": "python",
   "pygments_lexer": "ipython3",
   "version": "3.11.8"
  },
  "toc": {
   "base_numbering": 1,
   "nav_menu": {},
   "number_sections": true,
   "sideBar": true,
   "skip_h1_title": false,
   "title_cell": "Table of Contents",
   "title_sidebar": "Contents",
   "toc_cell": false,
   "toc_position": {},
   "toc_section_display": true,
   "toc_window_display": true
  },
  "varInspector": {
   "cols": {
    "lenName": 16,
    "lenType": 16,
    "lenVar": 40
   },
   "kernels_config": {
    "python": {
     "delete_cmd_postfix": "",
     "delete_cmd_prefix": "del ",
     "library": "var_list.py",
     "varRefreshCmd": "print(var_dic_list())"
    },
    "r": {
     "delete_cmd_postfix": ") ",
     "delete_cmd_prefix": "rm(",
     "library": "var_list.r",
     "varRefreshCmd": "cat(var_dic_list()) "
    }
   },
   "types_to_exclude": [
    "module",
    "function",
    "builtin_function_or_method",
    "instance",
    "_Feature"
   ],
   "window_display": false
  }
 },
 "nbformat": 4,
 "nbformat_minor": 5
}
