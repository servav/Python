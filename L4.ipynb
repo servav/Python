{
 "cells": [
  {
   "cell_type": "markdown",
   "id": "ordered-bristol",
   "metadata": {},
   "source": [
    "# Урок 4"
   ]
  },
  {
   "cell_type": "markdown",
   "id": "internal-trigger",
   "metadata": {},
   "source": [
    "## ДЗ"
   ]
  },
  {
   "cell_type": "markdown",
   "id": "trying-bahrain",
   "metadata": {},
   "source": [
    "1. Напишите функцию, извлекающую корень n-й степени из числа x. По умолчанию def будет извлекать квадратный корень:\n",
    "\n"
   ]
  },
  {
   "cell_type": "code",
   "execution_count": 2,
   "metadata": {},
   "outputs": [
    {
     "name": "stdout",
     "output_type": "stream",
     "text": [
      "5.0\n"
     ]
    }
   ],
   "source": [
    "def sqr(x, step = 2):\n",
    "    x = x ** (1/step)\n",
    "    return(x)\n",
    "print(sqr(125, 3))\n"
   ]
  },
  {
   "cell_type": "markdown",
   "id": "christian-solution",
   "metadata": {},
   "source": [
    "2. Перепишите ваш код для проверки расширения из прошлого ДЗ в функцию которая принимает список расширений и  имя файла"
   ]
  },
  {
   "cell_type": "code",
   "execution_count": null,
   "metadata": {},
   "outputs": [],
   "source": []
  },
  {
   "cell_type": "code",
   "execution_count": 11,
   "metadata": {},
   "outputs": [
    {
     "data": {
      "text/plain": [
       "'gif'"
      ]
     },
     "execution_count": 11,
     "metadata": {},
     "output_type": "execute_result"
    }
   ],
   "source": [
    "file='Моя диссертация.gif'\n",
    "extensions = ['png', 'jpg', 'jpeg', 'gif', 'svg']\n",
    "\n",
    "def filex(file):\n",
    "  e = file.split('.')\n",
    "  e = (e[len(e)-1])\n",
    "  return e\n",
    "\n",
    "filex(file)"
   ]
  },
  {
   "cell_type": "markdown",
   "id": "furnished-cookie",
   "metadata": {},
   "source": [
    "3. Слейте воедино три словаря"
   ]
  },
  {
   "cell_type": "code",
   "execution_count": 12,
   "id": "micro-robert",
   "metadata": {},
   "outputs": [
    {
     "name": "stdout",
     "output_type": "stream",
     "text": [
      "{1: 10, 2: 20, 3: 30, 4: 40, 5: 50, 6: 60}\n"
     ]
    }
   ],
   "source": [
    "dict_a = {1:10, 2:20}\n",
    "dict_b = {3:30, 4:40}\n",
    "dict_c = {5:50, 6:60}\n",
    "dict = {**dict_a, **dict_b, **dict_c}\n",
    "print(dict)"
   ]
  },
  {
   "cell_type": "markdown",
   "id": "instructional-belfast",
   "metadata": {},
   "source": [
    "4. Напишите функцию которая будет складывать цифры внутри числа"
   ]
  },
  {
   "cell_type": "code",
   "execution_count": 13,
   "metadata": {},
   "outputs": [
    {
     "name": "stdout",
     "output_type": "stream",
     "text": [
      "15\n"
     ]
    }
   ],
   "source": [
    "def sum_digits(n):\n",
    "    str_n = str(n)\n",
    "    sum = 0\n",
    "    for digit in str_n:\n",
    "        sum += int(digit)\n",
    "    return sum\n",
    "\n",
    "print(sum_digits(12345)) "
   ]
  },
  {
   "cell_type": "markdown",
   "id": "strategic-priest",
   "metadata": {},
   "source": [
    "5. Нужно проверить, все ли числа в последовательности уникальны.\n"
   ]
  },
  {
   "cell_type": "code",
   "execution_count": 16,
   "id": "aggregate-tender",
   "metadata": {},
   "outputs": [
    {
     "name": "stdout",
     "output_type": "stream",
     "text": [
      "True\n"
     ]
    }
   ],
   "source": [
    "def all_unique(numbers):\n",
    "    return len(numbers) == len(set(numbers))\n",
    "\n",
    "numbers = [1, 4, 5, 7]\n",
    "print(all_unique(numbers)) "
   ]
  },
  {
   "cell_type": "markdown",
   "id": "fluid-yield",
   "metadata": {},
   "source": [
    "6.Создать функцию, которая просто печатает все элементы заданного ей списка:\n",
    "\n",
    "     НОМЕР J --> ЗНАЧЕНИЕ\n",
    "     НОМЕР K --> ЗНАЧЕНИЕ\n",
    "    J, K — порядковые номера в списке"
   ]
  },
  {
   "cell_type": "code",
   "execution_count": 19,
   "id": "attractive-vault",
   "metadata": {},
   "outputs": [
    {
     "name": "stdout",
     "output_type": "stream",
     "text": [
      "1 я\n",
      "2 не\n",
      "3 в\n",
      "4 отпуск\n"
     ]
    }
   ],
   "source": [
    "my_list = [\"я\", \"не\", \"в\", \"отпуск\" ]\n",
    "def print_list(my_list):\n",
    "  for ind, val in enumerate(my_list):\n",
    "      print(ind+1, val)\n",
    "\n",
    "print_list(my_list)"
   ]
  },
  {
   "cell_type": "markdown",
   "id": "permanent-meter",
   "metadata": {},
   "source": [
    "Подсказка: один из способов это сделать (наиболее \"в лоб\" и в каком-то смысле наименее питонячий) это создать переменную, которая будет пробегать все номера от 0 до длины переданного списка и печатать просто строчку \"этот номер\" и элемент списка под индексом i. В таком варианте для цикла у вас будет использоваться оператор while. Не забудьте что внутри цикла вам надо будет увеличивать вашу переменную на один каждый раз\n",
    "\n"
   ]
  },
  {
   "cell_type": "code",
   "execution_count": null,
   "id": "special-contact",
   "metadata": {},
   "outputs": [],
   "source": [
    "Попробуйте позапускать функцию со списками разной длины и убедитесь что всё работает.\n",
    "\n"
   ]
  },
  {
   "cell_type": "markdown",
   "id": "incredible-substitute",
   "metadata": {},
   "source": [
    "Создать функцию, которая печатает каждый элемент словарика\n",
    "\n",
    "        КЛЮЧ <<J>> --> ЗНАЧЕНИЕ\n",
    "        КЛЮЧ <<K>> --> ЗНАЧЕНИЕ\n",
    "    J, K — ключи словарика"
   ]
  },
  {
   "cell_type": "code",
   "execution_count": 22,
   "id": "convertible-eagle",
   "metadata": {},
   "outputs": [
    {
     "name": "stdout",
     "output_type": "stream",
     "text": [
      "помидор овощ\n",
      "картошка овощ\n",
      "банан фрукт\n",
      "апельсин фрукт\n"
     ]
    }
   ],
   "source": [
    "dict_fruicts = {'помидор':'овощ','картошка':'овощ','банан':'фрукт','апельсин':'фрукт'}\n",
    "def print_dict(x):\n",
    "    for key, val in x.items():\n",
    "        print(key, val)\n",
    "\n",
    "print_dict(dict_fruicts)"
   ]
  },
  {
   "cell_type": "markdown",
   "id": "southeast-running",
   "metadata": {},
   "source": [
    "Подсказка: тут уже не получится просто создать переменную от 0 до чего-то и перебирать по ней просто увеличивая её на один, потому что в словарике ключи несортированы и непоследовательны. Это, кстати, означает заодно то что порядок вывода в функции может отличаться от того, в каком вы создавали словарик. Тут вам понадобится либо метод keys либо метод items, и может быть, такие понятия как \"распаковка\". Цикл будет сделан с помощью оператора for. Эту задачку можно решить и без цикла через list comprehension. Про работу со словариками посмотрите конец занятия L1.1\n",
    "\n"
   ]
  },
  {
   "cell_type": "markdown",
   "id": "radical-shadow",
   "metadata": {},
   "source": [
    "Сделать функцию, которая использует две уже написанные функции следующим образом:\n",
    "\n",
    "    если ЗНАЧЕНИЕ это LIST --> вызывается print_list\n",
    "    если ЗНАЧЕНИЕ это DICT --> вызывается print_dict\n",
    "    во всех других случаях просто выводится ЗНАЧЕНИЕ"
   ]
  },
  {
   "cell_type": "code",
   "execution_count": 28,
   "id": "tribal-cornwall",
   "metadata": {},
   "outputs": [
    {
     "name": "stdout",
     "output_type": "stream",
     "text": [
      "1 я\n",
      "2 не\n",
      "3 в\n",
      "4 отпуск\n",
      "помидор овощ\n",
      "картошка овощ\n",
      "банан фрукт\n",
      "апельсин фрукт\n",
      "Серега\n"
     ]
    }
   ],
   "source": [
    "my_list = [\"я\", \"не\", \"в\", \"отпуск\" ]\n",
    "dict_fruicts = {'помидор':'овощ','картошка':'овощ','банан':'фрукт','апельсин':'фрукт'}\n",
    "\n",
    "def print_overlord(x):\n",
    "    if isinstance(x, list): \n",
    "        print_list(x)\n",
    "            \n",
    "    elif isinstance(x, type(dict)):\n",
    "        print_dict(x)\n",
    "    \n",
    "    else: print(x)\n",
    "\n",
    "print_overlord(my_list)\n",
    "print_overlord(dict_fruicts)\n",
    "print_overlord(\"Серега\")"
   ]
  }
 ],
 "metadata": {
  "kernelspec": {
   "display_name": "Python 3",
   "language": "python",
   "name": "python3"
  },
  "language_info": {
   "codemirror_mode": {
    "name": "ipython",
    "version": 3
   },
   "file_extension": ".py",
   "mimetype": "text/x-python",
   "name": "python",
   "nbconvert_exporter": "python",
   "pygments_lexer": "ipython3",
   "version": "3.11.8"
  }
 },
 "nbformat": 4,
 "nbformat_minor": 5
}
