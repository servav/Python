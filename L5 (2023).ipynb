{
 "cells": [
  {
   "cell_type": "markdown",
   "id": "private-geology",
   "metadata": {},
   "source": [
    "# Урок 5"
   ]
  },
  {
   "cell_type": "markdown",
   "id": "horizontal-logic",
   "metadata": {},
   "source": [
    "## ДЗ"
   ]
  },
  {
   "cell_type": "markdown",
   "id": "large-distribution",
   "metadata": {},
   "source": [
    "1) Средний бал и список отстающих учеников"
   ]
  },
  {
   "cell_type": "code",
   "execution_count": 10,
   "id": "constant-violence",
   "metadata": {},
   "outputs": [
    {
     "name": "stdout",
     "output_type": "stream",
     "text": [
      "Средний бал:  3.18\n",
      "Отстающие ученики:  ['Дмитриев Н.', 'Котов Д.', 'Бирюкова Н.', 'Лемонов Ю.']\n"
     ]
    }
   ],
   "source": [
    "import re\n",
    "\n",
    "def calculate_average_score(filename):\n",
    "    with open(filename, 'r', encoding=\"utf-8\") as file_stream:\n",
    "        total_score = 0\n",
    "        count = 0\n",
    "        for line in file_stream:\n",
    "            score_match = re.search(r\"\\d+\", line)\n",
    "            score = int(score_match.group(0))\n",
    "            total_score += score\n",
    "            count += 1\n",
    "    average_score = total_score / count if count > 0 else 0\n",
    "    return round(average_score, 2)\n",
    "\n",
    "def get_failed_students(filename):\n",
    "    with open(filename, 'r', encoding=\"utf-8\") as file_stream:\n",
    "        failed_students = []\n",
    "        for line in file_stream:\n",
    "            score_match = re.search(r\"\\d+\", line)\n",
    "            name_match = re.search(r\"[A-Za-zА-Яа-я]+\\s[A-Za-zА-Яа-я]\\.\", line)\n",
    "            score = int(score_match.group(0))\n",
    "            name = name_match.group(0)\n",
    "\n",
    "            if score < 3:\n",
    "                failed_students.append(name)\n",
    "    return failed_students\n",
    "\n",
    "print(\"Средний бал: \", calculate_average_score(\"students.txt\"))\n",
    "print(\"Отстающие ученики: \", get_failed_students(\"students.txt\"))\n"
   ]
  },
  {
   "cell_type": "markdown",
   "id": "mature-guide",
   "metadata": {},
   "source": [
    "2) Посчитать количество определенных слов в файле"
   ]
  },
  {
   "cell_type": "code",
   "execution_count": 11,
   "metadata": {},
   "outputs": [
    {
     "name": "stdout",
     "output_type": "stream",
     "text": [
      "2\n"
     ]
    }
   ],
   "source": [
    "import re\n",
    "\n",
    "def count_word_occurrences(word, file_name):\n",
    "    with open(file_name, 'r', encoding=\"utf-8\") as file:\n",
    "        file_content = file.read()\n",
    "        words = re.findall(r'[A-Za-zА-Яа-я]+', file_content)\n",
    "\n",
    "        word_count = words.count(word)\n",
    "    return word_count\n",
    "\n",
    "result = count_word_occurrences(\"практ\", \"rasp.txt\")\n",
    "print(result)"
   ]
  },
  {
   "cell_type": "markdown",
   "id": "young-prince",
   "metadata": {},
   "source": [
    "3) Откройте Telegram, найдите @BotFather и начните беседу. Отправьте команду /newbot и следуйте инструкциям."
   ]
  },
  {
   "cell_type": "markdown",
   "id": "infrared-hamilton",
   "metadata": {},
   "source": [
    "свой токен;\n",
    "адрес Telegram API (https://api.telegram.org/bot);\n",
    "ссылку на документацию.\n",
    "Обязательно сохраните токен, так как это ключ для взаимодействия с ботом."
   ]
  },
  {
   "cell_type": "markdown",
   "id": "vocational-bikini",
   "metadata": {},
   "source": [
    "Хранение токена должно быть локальным: ни в коем случае не выгружайте его в общий доступ, например в GitHub-репозиторий ."
   ]
  },
  {
   "cell_type": "markdown",
   "id": "banned-substance",
   "metadata": {},
   "source": [
    "4) Выведите список файлов в указанной директории. например где у вас лежат ваши тетради\n",
    "\n"
   ]
  },
  {
   "cell_type": "code",
   "execution_count": 17,
   "id": "990805cc",
   "metadata": {},
   "outputs": [
    {
     "name": "stdout",
     "output_type": "stream",
     "text": [
      "['1', 'images', 'L2.ipynb', 'L3.ipynb', 'L4.ipynb', 'L5 (2023).ipynb', 'L6.ipynb', 'L7.ipynb', 'MISIS_v1.html', 'rasp.txt', 'stih.txt', 'students.txt']\n"
     ]
    }
   ],
   "source": [
    "import os\n",
    "\n",
    "PATH = \".\"\n",
    "print(os.listdir(PATH))"
   ]
  },
  {
   "cell_type": "markdown",
   "id": "actual-shakespeare",
   "metadata": {},
   "source": [
    "5) Напишите программу, которая принимает текст и выводит два слова: наиболее часто встречающееся и самое длинное."
   ]
  },
  {
   "cell_type": "markdown",
   "id": "neural-cricket",
   "metadata": {},
   "source": [
    "Варкалось. Хливкие шорьки\n",
    "Пырялись по наве,\n",
    "И хрюкотали зелюки,\n",
    "Как мюмзики в мове.\n",
    "\n",
    "О, бойся Бармаглота, сын!\n",
    "Он так свирлеп и дик!\n",
    "А в глу́ше ры́мит исполин —\n",
    "Злопастный Брандашмыг!\n",
    "\n",
    "Но взял он меч, и взял он щит,\n",
    "Высоких полон дум.\n",
    "В глущобу путь его лежит\n",
    "Под дерево Тумтум.\n",
    "\n",
    "Он стал под дерево и ждёт.\n",
    "И вдруг граахнул гром —\n",
    "Летит ужасный Бармаглот\n",
    "И пылкает огнём!\n",
    "\n",
    "Раз-два, раз-два! Горит трава,\n",
    "Взы-взы — стрижает меч,\n",
    "Ува! Ува! И голова\n",
    "Барабардает с плеч!\n",
    "\n",
    "О светозарный мальчик мой!\n",
    "Ты победил в бою!\n",
    "О храброславленный герой,\n",
    "Хвалу тебе пою!\n",
    "\n",
    "Варкалось. Хливкие шорьки\n",
    "Пырялись по наве.\n",
    "И хрюкотали зелюки,\n",
    "Как мюмзики в мове."
   ]
  },
  {
   "cell_type": "code",
   "execution_count": 25,
   "metadata": {},
   "outputs": [
    {
     "name": "stdout",
     "output_type": "stream",
     "text": [
      "{'и'}\n",
      "{'храброславленный'}\n"
     ]
    }
   ],
   "source": [
    "import re\n",
    "from collections import Counter\n",
    "\n",
    "def get_word_frequency(phrase):\n",
    "    phrase = phrase.lower()\n",
    "    words = re.findall(r'\\w+', phrase)\n",
    "    return Counter(words)\n",
    "\n",
    "def get_most_frequent_word(phrase):\n",
    "    frequency_dict = get_word_frequency(phrase)\n",
    "    most_common = frequency_dict.most_common(1)\n",
    "    return most_common[0][0] if most_common else None\n",
    "\n",
    "def get_longest_word(phrase):\n",
    "    phrase = phrase.lower()\n",
    "    words = re.findall(r'\\w+', phrase)\n",
    "    return max(words, key=len)\n",
    "\n",
    "with open(\"stih.txt\", \"r\", encoding=\"utf-8\") as file:\n",
    "    file_content = file.read()\n",
    "\n",
    "print({get_most_frequent_word(file_content)})\n",
    "print({get_longest_word(file_content)})\n",
    "     "
   ]
  }
 ],
 "metadata": {
  "kernelspec": {
   "display_name": "Python 3 (ipykernel)",
   "language": "python",
   "name": "python3"
  },
  "language_info": {
   "codemirror_mode": {
    "name": "ipython",
    "version": 3
   },
   "file_extension": ".py",
   "mimetype": "text/x-python",
   "name": "python",
   "nbconvert_exporter": "python",
   "pygments_lexer": "ipython3",
   "version": "3.11.8"
  },
  "toc": {
   "base_numbering": 1,
   "nav_menu": {},
   "number_sections": true,
   "sideBar": true,
   "skip_h1_title": false,
   "title_cell": "Table of Contents",
   "title_sidebar": "Contents",
   "toc_cell": false,
   "toc_position": {},
   "toc_section_display": true,
   "toc_window_display": false
  },
  "varInspector": {
   "cols": {
    "lenName": 16,
    "lenType": 16,
    "lenVar": 40
   },
   "kernels_config": {
    "python": {
     "delete_cmd_postfix": "",
     "delete_cmd_prefix": "del ",
     "library": "var_list.py",
     "varRefreshCmd": "print(var_dic_list())"
    },
    "r": {
     "delete_cmd_postfix": ") ",
     "delete_cmd_prefix": "rm(",
     "library": "var_list.r",
     "varRefreshCmd": "cat(var_dic_list()) "
    }
   },
   "types_to_exclude": [
    "module",
    "function",
    "builtin_function_or_method",
    "instance",
    "_Feature"
   ],
   "window_display": false
  }
 },
 "nbformat": 4,
 "nbformat_minor": 5
}
