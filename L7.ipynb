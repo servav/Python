{
 "cells": [
  {
   "cell_type": "code",
   "execution_count": 1,
   "metadata": {},
   "outputs": [
    {
     "name": "stdout",
     "output_type": "stream",
     "text": [
      "Collecting pytelegrambotapi\n",
      "  Downloading pytelegrambotapi-4.16.1-py3-none-any.whl (232 kB)\n",
      "                                              0.0/232.2 kB ? eta -:--:--\n",
      "     -                                        10.2/232.2 kB ? eta -:--:--\n",
      "     -                                        10.2/232.2 kB ? eta -:--:--\n",
      "     ------                                41.0/232.2 kB 245.8 kB/s eta 0:00:01\n",
      "     --------------                        92.2/232.2 kB 525.1 kB/s eta 0:00:01\n",
      "     ------------------------------       194.6/232.2 kB 845.5 kB/s eta 0:00:01\n",
      "     ------------------------------------ 232.2/232.2 kB 948.6 kB/s eta 0:00:00\n",
      "Collecting requests (from pytelegrambotapi)\n",
      "  Downloading requests-2.31.0-py3-none-any.whl (62 kB)\n",
      "                                              0.0/62.6 kB ? eta -:--:--\n",
      "     ---------------------------------------- 62.6/62.6 kB 3.3 MB/s eta 0:00:00\n",
      "Collecting charset-normalizer<4,>=2 (from requests->pytelegrambotapi)\n",
      "  Downloading charset_normalizer-3.3.2-cp311-cp311-win_amd64.whl (99 kB)\n",
      "                                              0.0/99.9 kB ? eta -:--:--\n",
      "     ---------------------------------------- 99.9/99.9 kB 2.9 MB/s eta 0:00:00\n",
      "Collecting idna<4,>=2.5 (from requests->pytelegrambotapi)\n",
      "  Downloading idna-3.6-py3-none-any.whl (61 kB)\n",
      "                                              0.0/61.6 kB ? eta -:--:--\n",
      "     ---------------------------------------- 61.6/61.6 kB 3.2 MB/s eta 0:00:00\n",
      "Collecting urllib3<3,>=1.21.1 (from requests->pytelegrambotapi)\n",
      "  Downloading urllib3-2.2.1-py3-none-any.whl (121 kB)\n",
      "                                              0.0/121.1 kB ? eta -:--:--\n",
      "     -------------------------------------- 121.1/121.1 kB 6.9 MB/s eta 0:00:00\n",
      "Collecting certifi>=2017.4.17 (from requests->pytelegrambotapi)\n",
      "  Downloading certifi-2024.2.2-py3-none-any.whl (163 kB)\n",
      "                                              0.0/163.8 kB ? eta -:--:--\n",
      "     -------------------------------------- 163.8/163.8 kB 5.0 MB/s eta 0:00:00\n",
      "Installing collected packages: urllib3, idna, charset-normalizer, certifi, requests, pytelegrambotapi\n",
      "Successfully installed certifi-2024.2.2 charset-normalizer-3.3.2 idna-3.6 pytelegrambotapi-4.16.1 requests-2.31.0 urllib3-2.2.1\n",
      "Note: you may need to restart the kernel to use updated packages.\n"
     ]
    },
    {
     "name": "stderr",
     "output_type": "stream",
     "text": [
      "\n",
      "[notice] A new release of pip is available: 23.1.2 -> 24.0\n",
      "[notice] To update, run: C:\\Users\\serge\\AppData\\Local\\Microsoft\\WindowsApps\\PythonSoftwareFoundation.Python.3.11_qbz5n2kfra8p0\\python.exe -m pip install --upgrade pip\n"
     ]
    }
   ],
   "source": [
    "pip install pytelegrambotapi"
   ]
  },
  {
   "cell_type": "code",
   "execution_count": 2,
   "metadata": {},
   "outputs": [
    {
     "name": "stdout",
     "output_type": "stream",
     "text": [
      "Collecting validatorsNote: you may need to restart the kernel to use updated packages.\n",
      "\n",
      "  Downloading validators-0.22.0-py3-none-any.whl (26 kB)\n",
      "Installing collected packages: validators\n",
      "Successfully installed validators-0.22.0\n"
     ]
    },
    {
     "name": "stderr",
     "output_type": "stream",
     "text": [
      "\n",
      "[notice] A new release of pip is available: 23.1.2 -> 24.0\n",
      "[notice] To update, run: C:\\Users\\serge\\AppData\\Local\\Microsoft\\WindowsApps\\PythonSoftwareFoundation.Python.3.11_qbz5n2kfra8p0\\python.exe -m pip install --upgrade pip\n"
     ]
    }
   ],
   "source": [
    "pip install validators"
   ]
  },
  {
   "cell_type": "code",
   "execution_count": 5,
   "metadata": {},
   "outputs": [
    {
     "name": "stdout",
     "output_type": "stream",
     "text": [
      "Сайт https://www.youtube.com доступен\n"
     ]
    }
   ],
   "source": [
    "import requests\n",
    "\n",
    "def check_website(url):\n",
    "    try:\n",
    "        response = requests.get(url)\n",
    "        if response.status_code == 200:\n",
    "            return f\"Сайт {url} доступен\"\n",
    "        else:\n",
    "            return f\"Сайт {url} недоступен. Код ответа HTTP: {response.status_code}\"\n",
    "    except requests.exceptions.RequestException as err:\n",
    "        return f\"Ошибка при проверке сайта {url}. Ошибка: {err}\"\n",
    "\n",
    "url = 'https://www.youtube.com' ,
    "print(check_website(url))"
   ]
  }
 ],
 "metadata": {
  "kernelspec": {
   "display_name": "Python 3",
   "language": "python",
   "name": "python3"
  },
  "language_info": {
   "codemirror_mode": {
    "name": "ipython",
    "version": 3
   },
   "file_extension": ".py",
   "mimetype": "text/x-python",
   "name": "python",
   "nbconvert_exporter": "python",
   "pygments_lexer": "ipython3",
   "version": "3.11.8"
  }
 },
 "nbformat": 4,
 "nbformat_minor": 2
}
