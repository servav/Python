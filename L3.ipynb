{
 "cells": [
  {
   "cell_type": "markdown",
   "id": "small-offense",
   "metadata": {},
   "source": [
    "## ПРАКТИКА (ДЗ)"
   ]
  },
  {
   "cell_type": "markdown",
   "id": "statewide-starter",
   "metadata": {},
   "source": [
    "### Задача 1 Какой месяц\n"
   ]
  },
  {
   "cell_type": "code",
   "execution_count": 5,
   "id": "processed-proposal",
   "metadata": {},
   "outputs": [
    {
     "name": "stdout",
     "output_type": "stream",
     "text": [
      "февраль\n"
     ]
    }
   ],
   "source": [
    "months = [\"январь\", \"февраль\", \"март\", \"апрель\", \"май\", \"июнь\", \"июль\", \"август\", \"сентябрь\", \"октябрь\", \"ноябрь\", \"декабрь\"]\n",
    "a = int(input(\"Введите номер месяца\")) - 1\n",
    "print(months[a])\n"
   ]
  },
  {
   "cell_type": "markdown",
   "id": "touched-acceptance",
   "metadata": {},
   "source": [
    "### Задача 2 Наибольший общий делитель"
   ]
  },
  {
   "cell_type": "code",
   "execution_count": 6,
   "id": "ranking-singing",
   "metadata": {},
   "outputs": [
    {
     "name": "stdout",
     "output_type": "stream",
     "text": [
      "4\n"
     ]
    }
   ],
   "source": [
    "a = 600\n",
    "b = 1012\n",
    "\n",
    "while a != 0 and b != 0:\n",
    "    if a > b:\n",
    "        a = a % b\n",
    "    else:\n",
    "        b = b % a\n",
    " \n",
    "print(a + b)"
   ]
  },
  {
   "cell_type": "markdown",
   "id": "objective-overhead",
   "metadata": {},
   "source": [
    "### Задача 3 Проверка расширения файла\n"
   ]
  },
  {
   "cell_type": "code",
   "execution_count": 30,
   "id": "normal-sense",
   "metadata": {},
   "outputs": [
    {
     "name": "stdout",
     "output_type": "stream",
     "text": [
      "Расширение в списке: gif\n"
     ]
    }
   ],
   "source": [
    "file='Моя диссертац.gif'\n",
    "extensions = ['png', 'jpg', 'jpeg', 'gif', 'svg']\n",
    "for e in extensions:\n",
    "    if file[len(file)-len(e):] == e:\n",
    "        print(f\"Расширение в списке: {e}\")\n",
    "        break\n",
    "else: \n",
    "    print(\"Расширение не в списке\")"
   ]
  },
  {
   "cell_type": "markdown",
   "id": "ahead-bronze",
   "metadata": {},
   "source": [
    "### Задача 4 Вискосный Год"
   ]
  },
  {
   "cell_type": "code",
   "execution_count": null,
   "id": "contrary-fishing",
   "metadata": {},
   "outputs": [],
   "source": [
    "год, номер которого кратен 400, — високосный;\n",
    "остальные годы, номер которых кратен 100, — невисокосные;\n",
    "остальные годы, номер которых кратен 4, — високосные."
   ]
  },
  {
   "cell_type": "code",
   "execution_count": 35,
   "id": "chief-economy",
   "metadata": {},
   "outputs": [
    {
     "name": "stdout",
     "output_type": "stream",
     "text": [
      "Високосный\n"
     ]
    }
   ],
   "source": [
    "year=2000\n",
    "if year % 400 == 0 or year % 4 == 0:\n",
    "    print(\"Високосный\")\n",
    "else: print(\"Невисокосный\")"
   ]
  }
 ],
 "metadata": {
  "kernelspec": {
   "display_name": "Python 3 (ipykernel)",
   "language": "python",
   "name": "python3"
  },
  "language_info": {
   "codemirror_mode": {
    "name": "ipython",
    "version": 3
   },
   "file_extension": ".py",
   "mimetype": "text/x-python",
   "name": "python",
   "nbconvert_exporter": "python",
   "pygments_lexer": "ipython3",
   "version": "3.11.8"
  }
 },
 "nbformat": 4,
 "nbformat_minor": 5
}
